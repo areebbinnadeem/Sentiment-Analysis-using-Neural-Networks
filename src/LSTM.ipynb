{
  "nbformat": 4,
  "nbformat_minor": 0,
  "metadata": {
    "colab": {
      "provenance": []
    },
    "kernelspec": {
      "name": "python3",
      "display_name": "Python 3"
    },
    "accelerator": "GPU"
  },
  "cells": [
    {
      "cell_type": "markdown",
      "source": [
        "### Importing the Libraries"
      ],
      "metadata": {
        "id": "2loQW8A_4Grl"
      }
    },
    {
      "cell_type": "code",
      "source": [
        "import numpy\n",
        "from keras.datasets import imdb\n",
        "from keras.models import Sequential\n",
        "from keras.layers import Dense, Dropout\n",
        "from keras.layers import Embedding\n",
        "from keras.preprocessing import sequence\n",
        "from keras.layers import LSTM\n",
        "from keras import models, layers\n",
        "from keras_visualizer import visualizer\n",
        "from PIL import Image\n",
        "from sklearn.model_selection import train_test_split\n",
        "from sklearn.metrics import confusion_matrix, classification_report, precision_score, recall_score\n",
        "from sklearn.metrics import f1_score, accuracy_score, roc_curve, roc_auc_score\n",
        "from imblearn.metrics import specificity_score\n",
        "import matplotlib.pyplot as plt\n",
        "# fix random seed for reproducibility\n",
        "seed = 7\n",
        "numpy.random.seed(seed)\n",
        "\n",
        "TOP_WORDS = 8000\n",
        "MAX_WORDS = 500"
      ],
      "metadata": {
        "id": "b14-HIDq43aA"
      },
      "execution_count": 3,
      "outputs": []
    },
    {
      "cell_type": "markdown",
      "source": [
        "### Loading the Dataset, applying Padding and Splitting the data"
      ],
      "metadata": {
        "id": "j0fSkWF04F3J"
      }
    },
    {
      "cell_type": "code",
      "metadata": {
        "id": "rAFT9uNWVsm-",
        "colab": {
          "base_uri": "https://localhost:8080/"
        },
        "outputId": "93d2165c-1501-4151-ee26-0431a9b7d932"
      },
      "source": [
        "# load the dataset but only keep the top n words, zero the rest\n",
        "(X_train, y_train), (X_test, y_test) = imdb.load_data(num_words=TOP_WORDS)\n",
        "\n",
        "# pad dataset to a maximum review length in words\n",
        "X_train = sequence.pad_sequences(X_train, maxlen=MAX_WORDS)\n",
        "X_test = sequence.pad_sequences(X_test, maxlen=MAX_WORDS)\n",
        "\n",
        "X = numpy.concatenate((X_train, X_test), axis=0)\n",
        "y = numpy.concatenate((y_train, y_test), axis=0)\n",
        "\n",
        "X_train, X_test, y_train, y_test = train_test_split(X, y, test_size=0.3, random_state=42) # split into train and test sets."
      ],
      "execution_count": 4,
      "outputs": [
        {
          "output_type": "stream",
          "name": "stdout",
          "text": [
            "Downloading data from https://storage.googleapis.com/tensorflow/tf-keras-datasets/imdb.npz\n",
            "17464789/17464789 [==============================] - 2s 0us/step\n"
          ]
        }
      ]
    },
    {
      "cell_type": "markdown",
      "source": [
        "### Defining the Model Architecture"
      ],
      "metadata": {
        "id": "iR7WwWMz4Ot9"
      }
    },
    {
      "cell_type": "code",
      "source": [
        "model = Sequential()\n",
        "model.add(Embedding(TOP_WORDS, 100, input_length=MAX_WORDS))\n",
        "model.add(LSTM(200))\n",
        "model.add(Dropout(0.8))\n",
        "model.add(Dense(1, activation='sigmoid'))\n",
        "model.compile(loss='binary_crossentropy', optimizer='adam', metrics=['accuracy'])\n",
        "print(model.summary())"
      ],
      "metadata": {
        "id": "ggZ84vVI1Mty",
        "colab": {
          "base_uri": "https://localhost:8080/"
        },
        "outputId": "04c188c9-eea8-4995-b779-eb54f2e4f60a"
      },
      "execution_count": 5,
      "outputs": [
        {
          "output_type": "stream",
          "name": "stdout",
          "text": [
            "Model: \"sequential\"\n",
            "_________________________________________________________________\n",
            " Layer (type)                Output Shape              Param #   \n",
            "=================================================================\n",
            " embedding (Embedding)       (None, 500, 100)          800000    \n",
            "                                                                 \n",
            " lstm (LSTM)                 (None, 200)               240800    \n",
            "                                                                 \n",
            " dropout (Dropout)           (None, 200)               0         \n",
            "                                                                 \n",
            " dense (Dense)               (None, 1)                 201       \n",
            "                                                                 \n",
            "=================================================================\n",
            "Total params: 1041001 (3.97 MB)\n",
            "Trainable params: 1041001 (3.97 MB)\n",
            "Non-trainable params: 0 (0.00 Byte)\n",
            "_________________________________________________________________\n",
            "None\n"
          ]
        }
      ]
    },
    {
      "cell_type": "code",
      "source": [
        "visualizer(model, file_name=\"lstm\", file_format=\"png\", view=True)"
      ],
      "metadata": {
        "id": "LgLYbz_aQt-O"
      },
      "execution_count": null,
      "outputs": []
    },
    {
      "cell_type": "code",
      "source": [
        "img = Image.open(\"lstm.png\")\n",
        "display(img)"
      ],
      "metadata": {
        "id": "uMpVgM-JSpon",
        "colab": {
          "base_uri": "https://localhost:8080/",
          "height": 1000
        },
        "outputId": "7b153262-2a68-4415-ab7c-641006ba9a5f"
      },
      "execution_count": null,
      "outputs": [
        {
          "output_type": "display_data",
          "data": {
            "text/plain": [
              "<PIL.PngImagePlugin.PngImageFile image mode=RGB size=496x1252>"
            ],
            "image/png": "[encoded data removed]"
          },
          "metadata": {}
        }
      ]
    },
    {
      "cell_type": "markdown",
      "source": [
        "### Training the Model"
      ],
      "metadata": {
        "id": "zFDozwdt4R6A"
      }
    },
    {
      "cell_type": "code",
      "metadata": {
        "id": "elHsihKeWGYe",
        "colab": {
          "base_uri": "https://localhost:8080/"
        },
        "outputId": "755ab993-2378-479c-95da-a187bbc328fc"
      },
      "source": [
        "# fit the model\n",
        "history = model.fit(X_train, y_train, validation_split=0.2, epochs=3, batch_size=128, verbose=2)\n",
        "\n",
        "# final evaluation of the model\n",
        "loss, accuracy = model.evaluate(X_test, y_test)\n",
        "print(f'Test loss: {loss}')\n",
        "print(f'Test accuracy: {accuracy}')"
      ],
      "execution_count": null,
      "outputs": [
        {
          "output_type": "stream",
          "name": "stdout",
          "text": [
            "Epoch 1/3\n",
            "219/219 - 47s - loss: 0.5102 - accuracy: 0.7327 - val_loss: 0.3245 - val_accuracy: 0.8651 - 47s/epoch - 216ms/step\n",
            "Epoch 2/3\n",
            "219/219 - 29s - loss: 0.2892 - accuracy: 0.8886 - val_loss: 0.3206 - val_accuracy: 0.8674 - 29s/epoch - 132ms/step\n",
            "Epoch 3/3\n",
            "219/219 - 23s - loss: 0.2296 - accuracy: 0.9155 - val_loss: 0.3128 - val_accuracy: 0.8750 - 23s/epoch - 105ms/step\n",
            "469/469 [==============================] - 5s 11ms/step - loss: 0.2996 - accuracy: 0.8791\n",
            "Test loss: 0.2995941936969757\n",
            "Test accuracy: 0.8791333436965942\n"
          ]
        }
      ]
    },
    {
      "cell_type": "markdown",
      "source": [
        "### Evaluating the Model"
      ],
      "metadata": {
        "id": "9xtgS1CE4lny"
      }
    },
    {
      "cell_type": "code",
      "metadata": {
        "id": "O3qy_PSeRE4V",
        "colab": {
          "base_uri": "https://localhost:8080/"
        },
        "outputId": "aa717e1d-a21d-4bb8-d405-417b783df5f0"
      },
      "source": [
        "pred = model.predict(X_test)\n",
        "pred = [1 if x > 0.5 else 0 for x in pred]"
      ],
      "execution_count": null,
      "outputs": [
        {
          "output_type": "stream",
          "name": "stdout",
          "text": [
            "469/469 [==============================] - 5s 9ms/step\n"
          ]
        }
      ]
    },
    {
      "cell_type": "markdown",
      "source": [
        "##### Classification Report"
      ],
      "metadata": {
        "id": "bWFSCHAVS9Tp"
      }
    },
    {
      "cell_type": "code",
      "metadata": {
        "id": "z9YpI9EERW0a",
        "outputId": "311a60ec-96d2-427f-be01-c62f6b8fda81",
        "colab": {
          "base_uri": "https://localhost:8080/"
        }
      },
      "source": [
        "print('Classification Report:')\n",
        "print(classification_report(y_test, pred))"
      ],
      "execution_count": null,
      "outputs": [
        {
          "output_type": "stream",
          "name": "stdout",
          "text": [
            "Classification Report:\n",
            "              precision    recall  f1-score   support\n",
            "\n",
            "           0       0.89      0.86      0.87      7398\n",
            "           1       0.87      0.90      0.88      7602\n",
            "\n",
            "    accuracy                           0.88     15000\n",
            "   macro avg       0.88      0.88      0.88     15000\n",
            "weighted avg       0.88      0.88      0.88     15000\n",
            "\n"
          ]
        }
      ]
    },
    {
      "cell_type": "markdown",
      "source": [
        "##### Confusion Matrix"
      ],
      "metadata": {
        "id": "uPh1Slz1TAxV"
      }
    },
    {
      "cell_type": "code",
      "source": [
        "print('Confusion Matrix:')\n",
        "print(confusion_matrix(y_test, pred))"
      ],
      "metadata": {
        "id": "BgE3j7_dTEGk",
        "colab": {
          "base_uri": "https://localhost:8080/"
        },
        "outputId": "dcf29d9d-95fe-43e1-9823-03376da7f869"
      },
      "execution_count": null,
      "outputs": [
        {
          "output_type": "stream",
          "name": "stdout",
          "text": [
            "Confusion Matrix:\n",
            "[[6341 1057]\n",
            " [ 756 6846]]\n"
          ]
        }
      ]
    },
    {
      "cell_type": "code",
      "source": [
        "precision = precision_score(y_test, pred)\n",
        "recall = recall_score(y_test, pred)\n",
        "f1 = f1_score(y_test, pred)\n",
        "specificity = specificity_score(y_test, pred)\n",
        "accuracy = accuracy_score(y_test, pred)\n",
        "\n",
        "print(f'Precision: {precision}')\n",
        "print(f'Recall: {recall}')\n",
        "print(f'F1 Score: {f1}')\n",
        "print(f'Specificity: {specificity}')\n",
        "print(f'Accuracy: {accuracy}')"
      ],
      "metadata": {
        "id": "ISUQBbPATMAC",
        "colab": {
          "base_uri": "https://localhost:8080/"
        },
        "outputId": "e89cba61-4eb2-47dc-87bd-b663c14b60e5"
      },
      "execution_count": null,
      "outputs": [
        {
          "output_type": "stream",
          "name": "stdout",
          "text": [
            "Precision: 0.8662533215234721\n",
            "Recall: 0.9005524861878453\n",
            "F1 Score: 0.8830699774266366\n",
            "Specificity: 0.8571235469045688\n",
            "Accuracy: 0.8791333333333333\n"
          ]
        }
      ]
    },
    {
      "cell_type": "markdown",
      "source": [
        "##### ROC Curve"
      ],
      "metadata": {
        "id": "wM6DxlF1TQL1"
      }
    },
    {
      "cell_type": "code",
      "source": [
        "fpr, tpr, thresholds = roc_curve(y_test, pred)\n",
        "plt.plot(fpr, tpr)\n",
        "plt.xlabel('False Positive Rate')\n",
        "plt.ylabel('True Positive Rate')\n",
        "plt.title('ROC Curve')\n",
        "plt.show()"
      ],
      "metadata": {
        "id": "az-pCWWZTRjT",
        "colab": {
          "base_uri": "https://localhost:8080/",
          "height": 472
        },
        "outputId": "962874d1-9eb1-4817-983b-e061a32339e1"
      },
      "execution_count": null,
      "outputs": [
        {
          "output_type": "display_data",
          "data": {
            "text/plain": [
              "<Figure size 640x480 with 1 Axes>"
            ],
            "image/png": "[encoded data removed]"
          },
          "metadata": {}
        }
      ]
    },
    {
      "cell_type": "markdown",
      "source": [
        "### Saving the Model"
      ],
      "metadata": {
        "id": "d1jEdgjm5DhV"
      }
    },
    {
      "cell_type": "code",
      "source": [
        "model.save(\"lstm_model.h5\")"
      ],
      "metadata": {
        "id": "LhQadmvS5DJf",
        "colab": {
          "base_uri": "https://localhost:8080/"
        },
        "outputId": "85378bea-536d-497f-898a-05bd10cfe6f9"
      },
      "execution_count": null,
      "outputs": [
        {
          "output_type": "stream",
          "name": "stderr",
          "text": [
            "/usr/local/lib/python3.10/dist-packages/keras/src/engine/training.py:3103: UserWarning: You are saving your model as an HDF5 file via `model.save()`. This file format is considered legacy. We recommend using instead the native Keras format, e.g. `model.save('my_model.keras')`.\n",
            "  saving_api.save_model(\n"
          ]
        }
      ]
    }
  ]
}